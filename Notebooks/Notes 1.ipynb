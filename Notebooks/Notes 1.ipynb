{
 "cells": [
  {
   "cell_type": "code",
   "execution_count": null,
   "metadata": {},
   "outputs": [],
   "source": [
    "# %load standard_import.txt\n",
    "import pandas as pd\n",
    "import numpy as np\n",
    "import matplotlib.pyplot as plt\n",
    "from mpl_toolkits.mplot3d import axes3d\n",
    "import seaborn as sns\n",
    "\n",
    "from sklearn.preprocessing import scale\n",
    "import sklearn.linear_model as skl_lm\n",
    "from sklearn.metrics import mean_squared_error, r2_score\n",
    "import statsmodels.api as sm\n",
    "import statsmodels.formula.api as smf\n",
    "\n",
    "%matplotlib inline\n",
    "plt.style.use('seaborn-white')"
   ]
  },
  {
   "cell_type": "markdown",
   "metadata": {},
   "source": [
    "# Chapter 1 - Introduction"
   ]
  },
  {
   "cell_type": "markdown",
   "metadata": {},
   "source": [
    "- [General](#General-Concepts)\n",
    "- [Notation](#Notation)\n",
    "- [Load Datasets](#Load-Datasets)"
   ]
  },
  {
   "cell_type": "markdown",
   "metadata": {},
   "source": [
    "### General Concepts\n",
    "\n",
    "Since we'll be using python, as we go through the ideas and concepts, I will sprinkle in use of `numpy`, `pandas`, and other core libraries or graphics functions. Remember, any time you have a question about a fucntion used, just type `?<function_name>` and you'll be given all the detail you'll ever want in most cases.\n",
    "\n",
    "The ISLR text starts with the following high-level concepts in the intro, so let's discuss each one briefly before moving on:\n",
    "- supervised vs. unsupervised\n",
    "- continuous/quantitative vs. categorical/qualitative\n",
    "- regression vs. classification"
   ]
  },
  {
   "cell_type": "markdown",
   "metadata": {},
   "source": [
    "### Notation\n",
    "\n",
    "#### Dimensions\n",
    "- $n$ is number of samples\n",
    "- $p$ is number of features"
   ]
  },
  {
   "cell_type": "code",
   "execution_count": null,
   "metadata": {},
   "outputs": [],
   "source": [
    "n, p = 100, 3"
   ]
  },
  {
   "cell_type": "markdown",
   "metadata": {},
   "source": [
    "#### Vectors (notation in text, not in notebook...)\n",
    "- general: $x_i$\n",
    "- when dimension is $n$, $\\mathbf{x}$"
   ]
  },
  {
   "cell_type": "code",
   "execution_count": null,
   "metadata": {
    "scrolled": true
   },
   "outputs": [],
   "source": [
    "a = np.random.randn(p)  # numpy has this nice way of generating some random data, args are the dimensions\n",
    "b = np.random.randn(p)\n",
    "\n",
    "print(f\"a   = {a}\")\n",
    "print(f\"b   = {b}\")\n",
    "print(f\"a+b = {a+b}\")\n",
    "print(f\"a*b = {a*b}\")"
   ]
  },
  {
   "cell_type": "markdown",
   "metadata": {},
   "source": [
    "#### Dot (inner) product\n",
    "$a\\cdot b = \\sum a_i \\cdot b_i = a_0 \\cdot b_0 + a_1 \\cdot b_1 + \\cdots$"
   ]
  },
  {
   "cell_type": "code",
   "execution_count": null,
   "metadata": {},
   "outputs": [],
   "source": [
    "print(f\"a . b = {np.dot(a,b)}\")"
   ]
  },
  {
   "cell_type": "markdown",
   "metadata": {},
   "source": [
    "#### Matrix notation\n",
    "\n",
    "$X = \\begin{pmatrix}\n",
    " x_{00} & x_{01} & \\dots & x_{0p_{-1}}\\\\\n",
    " x_{10} & x_{11} & \\dots & x_{1p_{-1}}\\\\\n",
    " \\vdots & \\vdots & \\ddots & \\vdots \\\\\n",
    "  x_{n_{-1}0} & x_{n_{-1}1} & \\dots & x_{n_{-1}p_{-1}}\\\\\n",
    " \\end{pmatrix}$"
   ]
  },
  {
   "cell_type": "code",
   "execution_count": null,
   "metadata": {},
   "outputs": [],
   "source": [
    "X = np.random.randn(n,p)           # two args means 2-D data...\n",
    "print(f\"dim(X)={np.shape(X)}\\n\")\n",
    "print(f\"first 10 rows of X\\n\\n{X[:10]}\")"
   ]
  },
  {
   "cell_type": "code",
   "execution_count": null,
   "metadata": {},
   "outputs": [],
   "source": [
    "X[3,1]"
   ]
  },
  {
   "cell_type": "code",
   "execution_count": null,
   "metadata": {},
   "outputs": [],
   "source": [
    "A = np.matrix([[1,2],[3,4]])\n",
    "B = np.matrix([[5,6],[7,8]])\n",
    "\n",
    "print(f\"A\\n{A}\\n\")\n",
    "print(f\"B\\n{B}\\n\")\n",
    "print(f\"A+B\\n{A+B}\\n\")\n",
    "print(f\"A*B, remember C_ij = row(A,i) . col(B,j)\\n{A*B}\\n\")\n",
    "\n",
    "print(f\"B*A\\n{B*A}\\n\")\n",
    "\n",
    "print(\"NOTE: A*B != B*A in general\\n\")\n",
    "\n",
    "print(f\"A = transpose(A)\\n{np.transpose(A)}\")"
   ]
  },
  {
   "cell_type": "markdown",
   "metadata": {},
   "source": [
    "**NOTE**: to multiply matrices $D$ and $E$, you must have the dimensions correct. If $D$ is $q \\times r$, then you must have $E$ be $r \\times s$ in order to talk about $D*E$."
   ]
  },
  {
   "cell_type": "code",
   "execution_count": null,
   "metadata": {},
   "outputs": [],
   "source": [
    "D = np.matrix([[1,2,3],[4,5,6]])\n",
    "E = np.matrix([[1,2,3,4],[5,6,7,8],[9,10,11,12]])\n",
    "\n",
    "print(f\"dim(D)={np.shape(D)}\\n\")\n",
    "print(f\"D\\n{D}\\n\")\n",
    "\n",
    "print(f\"dim(E)={np.shape(E)}\\n\")\n",
    "print(f\"E\\n{E}\\n\")\n",
    "\n",
    "print(f\"D*E\\n{D*E}\\n\")"
   ]
  },
  {
   "cell_type": "markdown",
   "metadata": {},
   "source": [
    "... but ..."
   ]
  },
  {
   "cell_type": "code",
   "execution_count": null,
   "metadata": {},
   "outputs": [],
   "source": [
    "try:\n",
    "    E*D\n",
    "except:\n",
    "    import sys\n",
    "    print(f\"This results in error because dimensions don't match:\\n\\n{sys.exc_info()[1]}\")"
   ]
  },
  {
   "cell_type": "markdown",
   "metadata": {},
   "source": [
    "### Some Data"
   ]
  },
  {
   "cell_type": "code",
   "execution_count": null,
   "metadata": {},
   "outputs": [],
   "source": [
    "wage = pd.read_csv('Data/Wage.csv')\n",
    "n, p = len(wage), len(wage.columns)\n",
    "wage.head()"
   ]
  },
  {
   "cell_type": "code",
   "execution_count": null,
   "metadata": {},
   "outputs": [],
   "source": [
    "wage.describe()"
   ]
  },
  {
   "cell_type": "code",
   "execution_count": null,
   "metadata": {},
   "outputs": [],
   "source": [
    "sns.pairplot(wage, hue=\"education\", palette=\"pastel\");"
   ]
  },
  {
   "cell_type": "code",
   "execution_count": null,
   "metadata": {},
   "outputs": [],
   "source": [
    "sns.pairplot(wage[[\"age\",\"wage\",\"education\"]], hue=\"education\", palette=\"pastel\", height=4, aspect=1.3);"
   ]
  },
  {
   "cell_type": "code",
   "execution_count": null,
   "metadata": {},
   "outputs": [],
   "source": [
    "sns.pairplot(wage[[\"age\",\"wage\",\"education\"]][wage[\"wage\"] > 250], hue=\"education\", palette=\"pastel\", height=4, aspect=1.3);"
   ]
  },
  {
   "cell_type": "code",
   "execution_count": null,
   "metadata": {},
   "outputs": [],
   "source": [
    "sns.boxplot(data=wage, x=\"education\", y=\"wage\", palette=\"pastel\");"
   ]
  },
  {
   "cell_type": "code",
   "execution_count": null,
   "metadata": {},
   "outputs": [],
   "source": [
    "sns.violinplot(data=wage, x=\"race\", y=\"wage\", palette=\"pastel\");"
   ]
  },
  {
   "cell_type": "code",
   "execution_count": null,
   "metadata": {},
   "outputs": [],
   "source": [
    "sns.regplot(data=wage, x=\"age\", y=\"logwage\");"
   ]
  },
  {
   "cell_type": "code",
   "execution_count": null,
   "metadata": {},
   "outputs": [],
   "source": [
    "wage.corr()"
   ]
  },
  {
   "cell_type": "code",
   "execution_count": null,
   "metadata": {},
   "outputs": [],
   "source": [
    "?pd.DataFrame.corr"
   ]
  },
  {
   "cell_type": "code",
   "execution_count": null,
   "metadata": {},
   "outputs": [],
   "source": [
    "x=wage[\"age\"]\n",
    "y=wage[\"wage\"]"
   ]
  },
  {
   "cell_type": "code",
   "execution_count": null,
   "metadata": {},
   "outputs": [],
   "source": [
    "# correlation coeff...\n",
    "np.cov(x,y)[0,1]/(x.std()*y.std())"
   ]
  },
  {
   "cell_type": "code",
   "execution_count": null,
   "metadata": {},
   "outputs": [],
   "source": [
    "def ms(v):\n",
    "    return v.mean(), v.std()\n",
    "\n",
    "xs = ms(x)\n",
    "ys = ms(y)"
   ]
  },
  {
   "cell_type": "code",
   "execution_count": null,
   "metadata": {},
   "outputs": [],
   "source": [
    "print(xs,ys,sep=\"\\n\")"
   ]
  },
  {
   "cell_type": "code",
   "execution_count": null,
   "metadata": {},
   "outputs": [],
   "source": [
    "# ... as standard normal variables...\n",
    "xx=(x-xs[0])/xs[1]\n",
    "yy=(y-ys[0])/ys[1]"
   ]
  },
  {
   "cell_type": "code",
   "execution_count": null,
   "metadata": {},
   "outputs": [],
   "source": [
    "sns.distplot(xx, label='xx');\n",
    "sns.distplot(yy, label='yy');\n",
    "plt.legend();"
   ]
  },
  {
   "cell_type": "code",
   "execution_count": null,
   "metadata": {},
   "outputs": [],
   "source": [
    "# correlation coefficient is easier when standard normal forms...\n",
    "1/(n-1)*np.dot(xx,yy)"
   ]
  },
  {
   "cell_type": "code",
   "execution_count": null,
   "metadata": {},
   "outputs": [],
   "source": []
  }
 ],
 "metadata": {
  "kernelspec": {
   "display_name": "Python 3",
   "language": "python",
   "name": "python3"
  },
  "language_info": {
   "codemirror_mode": {
    "name": "ipython",
    "version": 3
   },
   "file_extension": ".py",
   "mimetype": "text/x-python",
   "name": "python",
   "nbconvert_exporter": "python",
   "pygments_lexer": "ipython3",
   "version": "3.7.3"
  }
 },
 "nbformat": 4,
 "nbformat_minor": 4
}
