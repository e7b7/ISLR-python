{
 "cells": [
  {
   "cell_type": "markdown",
   "metadata": {},
   "source": [
    "# The Whole Game\n",
    "\n",
    "Some defs:\n",
    "\n",
    "| What | Formula |\n",
    "| -- | -- |\n",
    "| predictors | $$X=(X_1,X_2,\\dots,X_p)$$ |\n",
    "| response | $$Y$$ |\n",
    "| error | $$\\epsilon \\sim \\mathcal{N}(0,\\sigma^2)$$ |\n",
    "| truth | $$Y=f(X)+\\epsilon$$ |\n",
    "| estimate | $$\\hat{Y}=\\hat{f}(X)$$ |\n",
    "\n",
    "Errors for the estimate:\n",
    "\n",
    "$$\\begin{eqnarray}\n",
    "E[(Y-\\hat{Y})^2] & = & E[(f(X)+\\epsilon-\\hat{f}(X))^2] \\\\\n",
    "                 & = & \\dots \\\\\n",
    "                 & = & \\underbrace{[f(X)-\\hat{f}(X)]^2}_\\text{reducible} - \\underbrace{\\text{Var}(\\epsilon)}_\\text{irreducible}\n",
    "\\end{eqnarray}$$"
   ]
  },
  {
   "cell_type": "code",
   "execution_count": null,
   "metadata": {},
   "outputs": [],
   "source": [
    "import pandas as pd, numpy as np\n",
    "import matplotlib.pyplot as plt\n",
    "import seaborn as sns\n",
    "\n",
    "%matplotlib inline\n",
    "plt.style.use('seaborn-white')"
   ]
  },
  {
   "cell_type": "markdown",
   "metadata": {},
   "source": [
    "## Some Data"
   ]
  },
  {
   "cell_type": "code",
   "execution_count": null,
   "metadata": {},
   "outputs": [],
   "source": [
    "def some_data():\n",
    "    x=1*np.random.rand(100)\n",
    "    y=1+x**3\n",
    "    eps=np.random.normal(1,.25,len(y))\n",
    "    ys=y+eps\n",
    "    return x, y, ys\n",
    "\n",
    "x,y,ys = some_data()"
   ]
  },
  {
   "cell_type": "code",
   "execution_count": null,
   "metadata": {},
   "outputs": [],
   "source": [
    "plt.plot(x,ys,'bo',alpha=0.3);"
   ]
  },
  {
   "cell_type": "code",
   "execution_count": null,
   "metadata": {},
   "outputs": [],
   "source": [
    "xx=np.arange(0,1,0.01)\n",
    "yp=lambda m,x: 1.8+m*x\n",
    "plt.plot(x, ys, 'bo',alpha=0.3);\n",
    "plt.plot(xx,yp(1,xx),'r');"
   ]
  },
  {
   "cell_type": "markdown",
   "metadata": {},
   "source": [
    "## Mean Squared Error"
   ]
  },
  {
   "cell_type": "code",
   "execution_count": null,
   "metadata": {},
   "outputs": [],
   "source": [
    "MSE=lambda y,yp: 1/len(y)*np.dot(y-yp,y-yp)"
   ]
  },
  {
   "cell_type": "code",
   "execution_count": null,
   "metadata": {},
   "outputs": [],
   "source": [
    "print(MSE(ys, yp(1,x)))"
   ]
  },
  {
   "cell_type": "code",
   "execution_count": null,
   "metadata": {},
   "outputs": [],
   "source": [
    "g=np.arange(0.5,1.5,0.005)\n",
    "e=[MSE(ys, yp(gg,x)) for gg in g]\n",
    "plt.plot(g,e);\n",
    "m0=g[np.argmin(e)]\n",
    "print(m0,np.min(e))"
   ]
  },
  {
   "cell_type": "code",
   "execution_count": null,
   "metadata": {},
   "outputs": [],
   "source": [
    "import scipy.signal as ss\n",
    "import scipy.interpolate as si"
   ]
  },
  {
   "cell_type": "code",
   "execution_count": null,
   "metadata": {},
   "outputs": [],
   "source": [
    "n=50\n",
    "xss=np.linspace(x.min(),x.max(),n)\n",
    "_,yss0=zip(*sorted([v for v in zip(x,ys)], key=lambda v: v[0]))\n",
    "yss=ss.resample(yss0,n)"
   ]
  },
  {
   "cell_type": "code",
   "execution_count": null,
   "metadata": {},
   "outputs": [],
   "source": [
    "t, c, k = si.splrep(xss, yss, s=0.2, k=4)\n",
    "\n",
    "N = 100\n",
    "xmin, xmax = x.min(), x.max()\n",
    "xx = np.linspace(xmin, xmax, N)\n",
    "spline = si.BSpline(t, c, k, extrapolate=False)\n",
    "\n",
    "plt.plot(x, ys, 'bo', alpha=0.3);\n",
    "plt.plot(xx, spline(xx), 'r');\n",
    "\n",
    "print(MSE(ys, spline(x)))"
   ]
  },
  {
   "cell_type": "code",
   "execution_count": null,
   "metadata": {},
   "outputs": [],
   "source": [
    "ype,yse=[],[]\n",
    "for i in range(1000):\n",
    "    x2,y2,ys2 = some_data()\n",
    "    ype.append(MSE(ys2,yp(m0, x2)))\n",
    "    yse.append(MSE(ys2,spline(x2.clip(xmin,xmax))))\n",
    "\n",
    "fig, (ax1, ax2) = plt.subplots(1, 2, figsize=(8,4))\n",
    "sns.histplot(ype,ax=ax1);\n",
    "sns.histplot(yse,ax=ax2);\n",
    "pd.DataFrame({'ype':ype,'yse':yse}).describe()"
   ]
  },
  {
   "cell_type": "markdown",
   "metadata": {},
   "source": [
    "## Least Squares for reference on linear fit"
   ]
  },
  {
   "cell_type": "code",
   "execution_count": null,
   "metadata": {},
   "outputs": [],
   "source": [
    "import statsmodels.formula.api as smf\n",
    "df=pd.DataFrame({'x':x,'y':ys})\n",
    "mod = smf.ols(formula='y ~ x', data=df)\n",
    "res = mod.fit()\n",
    "print(res.params)"
   ]
  },
  {
   "cell_type": "markdown",
   "metadata": {},
   "source": [
    "## Just for fun, look at population of possible fits over a family of random samples"
   ]
  },
  {
   "cell_type": "code",
   "execution_count": null,
   "metadata": {},
   "outputs": [],
   "source": [
    "xb,xm,ype,yse=[],[],[],[]\n",
    "for i in range(1000):\n",
    "    x,y,ys = some_data()\n",
    "    df=pd.DataFrame({'x':x,'y':ys})\n",
    "    mod = smf.ols(formula='y ~ x', data=df)\n",
    "    res = mod.fit()\n",
    "    xb.append(res.params.Intercept)\n",
    "    xm.append(res.params.x)\n",
    "    yp=lambda x: xb[-1]+xm[-1]*x\n",
    "    \n",
    "    n=50\n",
    "    xss=np.linspace(x.min(),x.max(),n)\n",
    "    _,yss0=zip(*sorted([v for v in zip(x,ys)], key=lambda v: v[0]))\n",
    "    yss=ss.resample(yss0,n)\n",
    "    \n",
    "    N = 100\n",
    "    xmin, xmax = x.min(), x.max()\n",
    "    xx = np.linspace(xmin, xmax, N)\n",
    "    spline = si.BSpline(t, c, k, extrapolate=False)\n",
    "    \n",
    "    x2,y2,ys2 = some_data()\n",
    "    ype.append(MSE(ys2,yp(x2)))\n",
    "    yse.append(MSE(ys2,spline(x2.clip(xmin,xmax))))"
   ]
  },
  {
   "cell_type": "code",
   "execution_count": null,
   "metadata": {},
   "outputs": [],
   "source": [
    "fig, ax = plt.subplots(1, 4, figsize=(12,3))\n",
    "sns.histplot(xb,ax=ax[0]);\n",
    "sns.histplot(xm,ax=ax[1]);\n",
    "sns.histplot(ype,ax=ax[2]);\n",
    "sns.histplot(yse,ax=ax[3]);\n",
    "pd.DataFrame({'ype':ype,'yse':yse}).describe()"
   ]
  },
  {
   "cell_type": "markdown",
   "metadata": {},
   "source": [
    "# Homework\n",
    "\n",
    "Do problem 2.8. See how far you can get with the finding a good linear model after doing some data cleaning and using the simple `smf.ols`."
   ]
  },
  {
   "cell_type": "markdown",
   "metadata": {},
   "source": [
    "# A couple usage examples for `smf.ols`"
   ]
  },
  {
   "cell_type": "markdown",
   "metadata": {},
   "source": [
    "## Least squares on other data"
   ]
  },
  {
   "cell_type": "code",
   "execution_count": null,
   "metadata": {},
   "outputs": [],
   "source": [
    "ic = pd.read_csv('Data/Income1.csv')\n",
    "ic.describe()"
   ]
  },
  {
   "cell_type": "markdown",
   "metadata": {},
   "source": [
    "Figure 2.2"
   ]
  },
  {
   "cell_type": "code",
   "execution_count": null,
   "metadata": {},
   "outputs": [],
   "source": [
    "sns.regplot(data=ic, x='Education', y='Income');"
   ]
  },
  {
   "cell_type": "code",
   "execution_count": null,
   "metadata": {},
   "outputs": [],
   "source": [
    "mod = smf.ols(formula='Income ~ Education', data=ic)\n",
    "res = mod.fit()\n",
    "print(res.summary())"
   ]
  },
  {
   "cell_type": "code",
   "execution_count": null,
   "metadata": {},
   "outputs": [],
   "source": [
    "ad = pd.read_csv('Data/Advertising.csv')\n",
    "fig, (ax1, ax2, ax3) = plt.subplots(1, 3, figsize=(12,4))\n",
    "sns.regplot(data=ad, x='TV', y='Sales', ax=ax1);\n",
    "sns.regplot(data=ad, x='Radio', y='Sales', ax=ax2);\n",
    "sns.regplot(data=ad, x='Newspaper', y='Sales', ax=ax3);"
   ]
  },
  {
   "cell_type": "code",
   "execution_count": null,
   "metadata": {},
   "outputs": [],
   "source": [
    "mod = smf.ols(formula='Sales ~ TV + Radio + Newspaper', data=ad)\n",
    "res = mod.fit()\n",
    "print(res.summary())"
   ]
  },
  {
   "cell_type": "code",
   "execution_count": null,
   "metadata": {},
   "outputs": [],
   "source": []
  }
 ],
 "metadata": {
  "kernelspec": {
   "display_name": "Python 3",
   "language": "python",
   "name": "python3"
  },
  "language_info": {
   "codemirror_mode": {
    "name": "ipython",
    "version": 3
   },
   "file_extension": ".py",
   "mimetype": "text/x-python",
   "name": "python",
   "nbconvert_exporter": "python",
   "pygments_lexer": "ipython3",
   "version": "3.8.5"
  }
 },
 "nbformat": 4,
 "nbformat_minor": 4
}
