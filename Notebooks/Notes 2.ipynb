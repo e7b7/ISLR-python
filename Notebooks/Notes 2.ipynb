{
 "cells": [
  {
   "cell_type": "code",
   "execution_count": null,
   "metadata": {},
   "outputs": [],
   "source": [
    "# %load standard_import.txt\n",
    "import pandas as pd\n",
    "import numpy as np\n",
    "import matplotlib.pyplot as plt\n",
    "from mpl_toolkits.mplot3d import axes3d\n",
    "import seaborn as sns\n",
    "\n",
    "from sklearn.preprocessing import scale\n",
    "import sklearn.linear_model as skl_lm\n",
    "from sklearn.metrics import mean_squared_error, r2_score\n",
    "import statsmodels.api as sm\n",
    "import statsmodels.formula.api as smf\n",
    "\n",
    "%matplotlib inline\n",
    "plt.style.use('seaborn-white')"
   ]
  },
  {
   "cell_type": "markdown",
   "metadata": {},
   "source": [
    "# Some Stats"
   ]
  },
  {
   "cell_type": "markdown",
   "metadata": {},
   "source": [
    "- Expectation: \n",
    "$$\\begin{eqnarray}\\mu_X & =  & E[X] \\\\ & = & \\sum w_i \\cdot x_i\\end{eqnarray}$$ where $x_i$ are samples of $X$, $w_i$ is a weight, or probability, of $x_i$ showing up, and $\\sum w_i = 1$.\n",
    "\n",
    "Usually, we look at $\\mu_X$ as just the mean, and $w_i=\\frac{1}{N}$, so $\\mu_X = \\frac{1}{N}\\sum x_i$. Below, $\\mu_X$ refers to the mean.\n",
    "\n",
    "- Covariance: \n",
    "$$\\begin{eqnarray}\\sigma_{XY}^2 & = & E[(X-E[X])\\cdot(Y-E[Y])] \\\\ & = & E[XY] - E[X]E[Y] \\\\ & = & \\mu_{XY} - \\mu_X\\mu_Y\\end{eqnarray}$$\n",
    "\n",
    "- Variance:\n",
    "$$\\begin{eqnarray}\\sigma_X^2 & = & Var[X] \\\\ & = & E[(X-E[X])^2] \\\\ & = & E[X^2]-E[X]^2 \\\\ & = & \\mu_{X^2}-\\mu_X^2\\end{eqnarray}$$\n",
    "\n",
    "- Standard deviation: Square root of variance, i.e., $\\sigma_X$.\n",
    "\n",
    "- Correlation:\n",
    "$$r_{XY}=\\frac{\\sigma_{XY}^2}{\\sigma_X\\cdot\\sigma_Y}$$"
   ]
  },
  {
   "cell_type": "code",
   "execution_count": null,
   "metadata": {},
   "outputs": [],
   "source": [
    "wage = pd.read_csv('Data/Wage.csv')\n",
    "wage.describe()"
   ]
  },
  {
   "cell_type": "code",
   "execution_count": null,
   "metadata": {},
   "outputs": [],
   "source": [
    "x=wage[\"age\"]\n",
    "y=wage[\"wage\"]"
   ]
  },
  {
   "cell_type": "markdown",
   "metadata": {},
   "source": [
    "The full nelson for $r_{xy}$!"
   ]
  },
  {
   "cell_type": "code",
   "execution_count": null,
   "metadata": {},
   "outputs": [],
   "source": [
    "((x*y).mean()-x.mean()*y.mean())/(np.sqrt(((x-x.mean())**2).mean())*np.sqrt(((y-y.mean())**2).mean()))"
   ]
  },
  {
   "cell_type": "markdown",
   "metadata": {},
   "source": [
    "A bit simpler this way..."
   ]
  },
  {
   "cell_type": "code",
   "execution_count": null,
   "metadata": {},
   "outputs": [],
   "source": [
    "np.cov(x,y)[0,1]/(x.std()*y.std())"
   ]
  },
  {
   "cell_type": "markdown",
   "metadata": {},
   "source": [
    "... or this way!"
   ]
  },
  {
   "cell_type": "code",
   "execution_count": null,
   "metadata": {},
   "outputs": [],
   "source": [
    "wage.corr()"
   ]
  },
  {
   "cell_type": "markdown",
   "metadata": {},
   "source": [
    "It is sometime nice to look at these variables as \"standard normal\", and we achieve this by \"normalizing\" these sample vectors:"
   ]
  },
  {
   "cell_type": "code",
   "execution_count": null,
   "metadata": {},
   "outputs": [],
   "source": [
    "# ... as standard normal variables...\n",
    "xx=(x-x.mean())/x.std()\n",
    "yy=(y-y.mean())/y.std()"
   ]
  },
  {
   "cell_type": "code",
   "execution_count": null,
   "metadata": {},
   "outputs": [],
   "source": [
    "sns.scatterplot(data=wage, x=\"age\", y=\"logwage\", alpha=0.1);"
   ]
  },
  {
   "cell_type": "markdown",
   "metadata": {},
   "source": [
    "Distributions visualization tell the full story though..."
   ]
  },
  {
   "cell_type": "code",
   "execution_count": null,
   "metadata": {},
   "outputs": [],
   "source": [
    "sns.distplot(xx, label='xx');\n",
    "sns.distplot(yy, label='yy');\n",
    "plt.legend();"
   ]
  },
  {
   "cell_type": "markdown",
   "metadata": {},
   "source": [
    "When in standard normal form, the correlation coefficient is easier to think about: $E[xx\\cdot yy]$"
   ]
  },
  {
   "cell_type": "code",
   "execution_count": null,
   "metadata": {},
   "outputs": [],
   "source": [
    "n=len(xx)\n",
    "1/(n-1)*np.dot(xx,yy)"
   ]
  },
  {
   "cell_type": "code",
   "execution_count": null,
   "metadata": {},
   "outputs": [],
   "source": [
    "np.correlate(xx,yy)"
   ]
  },
  {
   "cell_type": "code",
   "execution_count": null,
   "metadata": {},
   "outputs": [],
   "source": [
    "np.cov(x,y)"
   ]
  },
  {
   "cell_type": "code",
   "execution_count": null,
   "metadata": {},
   "outputs": [],
   "source": []
  }
 ],
 "metadata": {
  "kernelspec": {
   "display_name": "Python 3",
   "language": "python",
   "name": "python3"
  },
  "language_info": {
   "codemirror_mode": {
    "name": "ipython",
    "version": 3
   },
   "file_extension": ".py",
   "mimetype": "text/x-python",
   "name": "python",
   "nbconvert_exporter": "python",
   "pygments_lexer": "ipython3",
   "version": "3.7.3"
  }
 },
 "nbformat": 4,
 "nbformat_minor": 4
}
